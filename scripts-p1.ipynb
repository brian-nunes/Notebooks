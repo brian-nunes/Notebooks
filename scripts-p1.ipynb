{
 "cells": [
  {
   "cell_type": "code",
   "execution_count": 2,
   "metadata": {},
   "outputs": [],
   "source": [
    "import numpy as np"
   ]
  },
  {
   "cell_type": "code",
   "execution_count": 3,
   "metadata": {},
   "outputs": [],
   "source": [
    "def sig_mtx(array, precisao):\n",
    "    for i in range(len(array)):\n",
    "        for j in range(len(array[0])):\n",
    "            array[i][j] = float(np.format_float_positional(array[i][j], unique=False, precision=precisao, fractional=False))\n",
    "    return array"
   ]
  },
  {
   "cell_type": "code",
   "execution_count": 4,
   "metadata": {},
   "outputs": [],
   "source": [
    "def sig_row(row, precisao):\n",
    "    for i in range(len(row)):\n",
    "        row[i] = float(np.format_float_positional(row[i], unique=False, precision=precisao, fractional=False))\n",
    "    return row"
   ]
  },
  {
   "cell_type": "code",
   "execution_count": 5,
   "metadata": {},
   "outputs": [],
   "source": [
    "def sig_num(numero, precisao):\n",
    "    numero = float(np.format_float_positional(numero, unique=False, precision=precisao, fractional=False))\n",
    "    return numero"
   ]
  },
  {
   "cell_type": "code",
   "execution_count": 65,
   "metadata": {},
   "outputs": [],
   "source": [
    "def gauss_com_pivot(matrix, precisao):\n",
    "    linhas = len(matrix)\n",
    "    \n",
    "    if(len(matrix) != len(matrix[0])):\n",
    "        colunas = len(matrix[0]) - 1\n",
    "    else:\n",
    "        colunas = len(matrix)\n",
    "    \n",
    "    for i in range (colunas):\n",
    "        linha_pivot = i + np.argmax(np.abs(matrix[i:, i]))\n",
    "        print(f'iteração {i}:\\n Matrix antes do passo:\\n{matrix}')\n",
    "        \n",
    "        if (linha_pivot != i):\n",
    "            matrix[[i,linha_pivot],:] = matrix[[linha_pivot,i],:]\n",
    "        \n",
    "        for j in range (i+1, linhas):\n",
    "            matrix[j] = matrix[j] - sig_row(matrix[j][i]/matrix[i][i]*matrix[i], precisao)\n",
    "        #print(f'Matrix antes do arredondamento:\\n{matrix}')\n",
    "        matrix = sig_mtx(matrix, precisao)\n",
    "        print(f'Matrix apos arredondamento:\\n{matrix}')\n",
    "    return matrix"
   ]
  },
  {
   "cell_type": "code",
   "execution_count": 68,
   "metadata": {},
   "outputs": [],
   "source": [
    "def subs_retroativa(matrix, precisao):\n",
    "    matrix = gauss_com_pivot(matrix, precisao)\n",
    "    colunas = len(matrix[0]) - 1\n",
    "    linhas = len(matrix)\n",
    "    saida = np.zeros(linhas, dtype='f')\n",
    "    soma_acumulada = 0\n",
    "    \n",
    "    for i in range (linhas -1, -1, -1):\n",
    "        soma_acumulada = 0\n",
    "        if (i == colunas - 1):\n",
    "            saida[i] = sig_num(matrix[linhas - 1][colunas]/matrix[linhas - 1][colunas - 1], 2)\n",
    "            \n",
    "        \n",
    "        #pode fazer isso?\n",
    "        else:\n",
    "            for j in range(colunas - 1, -1, -1):\n",
    "                soma_acumulada= soma_acumulada + matrix[i][j]*saida[j]\n",
    "                \n",
    "            saida[i] = (matrix[i][colunas] - soma_acumulada)/matrix[i][i]\n",
    "        \n",
    "        print(f'saída {i+1} antes do arredondamento: {saida[i]}')\n",
    "        saida[i] = sig_num(saida[i], precisao)\n",
    "        print(f'saída {i+1} depois do arredondamento: {saida[i]}\\n')\n",
    "        \n",
    "    print(f'saída final:\\n{saida}')\n",
    "    \n",
    "    #return saida"
   ]
  },
  {
   "cell_type": "code",
   "execution_count": 8,
   "metadata": {},
   "outputs": [],
   "source": [
    "def crit_sassenfeld(matrix):    \n",
    "    linhas = len(matrix)\n",
    "    colunas = len(matrix[0]) - 1\n",
    "    b = np.zeros(linhas, dtype='f')\n",
    "    saida = 0\n",
    "    \n",
    "    for i in range(linhas):\n",
    "        temp = 0\n",
    "        if(i == 0):\n",
    "            for j in range(1,colunas):\n",
    "                temp = temp + abs(matrix[0][j])\n",
    "            b[0] = temp/abs(matrix[0][0])\n",
    "        else:\n",
    "            for j in range(i+1, colunas):\n",
    "                temp = temp + abs(matrix[i][j])\n",
    "            for k in range(i):\n",
    "                temp = temp + abs(matrix[i][k]*b[k])\n",
    "            b[i] = temp/abs(matrix[i][i])\n",
    "        print(f'b[{i}] = {b[i]}')\n",
    "    \n",
    "    saida = np.max(b)\n",
    "    return saida"
   ]
  },
  {
   "cell_type": "code",
   "execution_count": 9,
   "metadata": {},
   "outputs": [],
   "source": [
    "def crit_linhas(matrix):\n",
    "    linhas = len(matrix)\n",
    "    colunas = len(matrix[0]) - 1    \n",
    "    saida = True\n",
    "    temp = 0\n",
    "    soma_linhas = np.zeros(linhas, dtype='f')\n",
    "    \n",
    "    for i in range(linhas):\n",
    "        temp = 0\n",
    "        for j in range(colunas):\n",
    "            if(i != j):\n",
    "                temp = temp + abs(matrix[i][j])\n",
    "                \n",
    "        soma_linhas[i] = temp\n",
    "        print(f'somatório {i}: {soma_linhas[i]}, diagonal: {abs(matrix[i][i])}')\n",
    "        \n",
    "        if(soma_linhas[i] > abs(matrix[i][i])):\n",
    "            saida = False\n",
    "    \n",
    "    return saida"
   ]
  },
  {
   "cell_type": "code",
   "execution_count": 105,
   "metadata": {},
   "outputs": [],
   "source": [
    "def gauss_seidel(matrix, x_0, iteracoes):\n",
    "    linhas = len(matrix)\n",
    "    colunas = len(matrix[0]) - 1    \n",
    "    x_k = x_0\n",
    "    x_k1 = np.zeros(linhas, dtype='f')\n",
    "    b = matrix[:, -1]\n",
    "    temp = 0\n",
    "    vi_k1=np.zeros(linhas, dtype='f')\n",
    "    \n",
    "    for k in range(iteracoes):\n",
    "        if(k != 0):\n",
    "            x_k = np.copy(x_k1)\n",
    "            x_k1 = np.zeros(linhas, dtype='f')\n",
    "            \n",
    "        for i in range(linhas):\n",
    "            temp = 0\n",
    "        \n",
    "            for j in range(colunas):\n",
    "                if(j < i):\n",
    "                    temp = temp + matrix[i][j]*x_k1[j]\n",
    "                    #temp = temp + sig_num(matrix[i][j]*x_k1[j], precisao)\n",
    "            \n",
    "                if(j > i):\n",
    "                    temp = temp + matrix[i][j]*x_k[j]\n",
    "                    #temp = sig_num(temp + matrix[i][j]*x_k[j], precisao)\n",
    "            \n",
    "                \n",
    "            x_k1[i] = (b[i] - temp)/matrix[i][i]\n",
    "            #x_k1[i] = sig_num(sig_num((b[i] - temp), 3)/matrix[i][i], precisao)\n",
    "            \n",
    "            if(x_k1[i] != 0):\n",
    "                vi_k1[i] = abs(x_k1[i] - x_k[i])/abs(x_k1[i])\n",
    "            elif(x_k1[i] == 0 and x_k[i] == 0):\n",
    "                vi_k1[i] = 0\n",
    "            elif(x_k1[i] == 0 and x_k[i] != 0):\n",
    "                vi_k1[i] = 1\n",
    "        \n",
    "        print(f'iteração {k+1}')\n",
    "        print(f'X_{k}: {x_k}\\nX_{k+1}: {x_k1}\\nVi_{k+1}: {vi_k1}\\nVar_{k+1}: {np.max(vi_k1)}')\n",
    "        \n",
    "    return x_k1"
   ]
  },
  {
   "cell_type": "markdown",
   "metadata": {},
   "source": [
    "Questão 1"
   ]
  },
  {
   "cell_type": "code",
   "execution_count": 37,
   "metadata": {},
   "outputs": [],
   "source": [
    "A = np.array([[-1, 0, 2, 0], [4, 1, 3, 1], [2, 2, -1, 1], [0, 0, 1, 0]], dtype='f')"
   ]
  },
  {
   "cell_type": "markdown",
   "metadata": {},
   "source": [
    "1.1"
   ]
  },
  {
   "cell_type": "code",
   "execution_count": 35,
   "metadata": {},
   "outputs": [
    {
     "name": "stdout",
     "output_type": "stream",
     "text": [
      "[[ 4.          1.          3.          1.        ]\n",
      " [ 0.          1.5        -2.5         0.5       ]\n",
      " [ 0.          0.          3.1666667   0.16666666]\n",
      " [ 0.          0.          0.         -0.05263157]]\n"
     ]
    }
   ],
   "source": [
    "print(gauss_com_pivot(A, 10))"
   ]
  },
  {
   "cell_type": "code",
   "execution_count": 39,
   "metadata": {},
   "outputs": [
    {
     "data": {
      "text/plain": [
       "1.2"
      ]
     },
     "execution_count": 39,
     "metadata": {},
     "output_type": "execute_result"
    }
   ],
   "source": [
    "1.2"
   ]
  },
  {
   "cell_type": "code",
   "execution_count": 38,
   "metadata": {},
   "outputs": [
    {
     "data": {
      "text/plain": [
       "-1.0"
      ]
     },
     "execution_count": 38,
     "metadata": {},
     "output_type": "execute_result"
    }
   ],
   "source": [
    "np.linalg.det(A)"
   ]
  },
  {
   "cell_type": "markdown",
   "metadata": {},
   "source": [
    "1.3"
   ]
  },
  {
   "cell_type": "code",
   "execution_count": 44,
   "metadata": {},
   "outputs": [
    {
     "data": {
      "text/plain": [
       "array([[-1.0000000e+00,  0.0000000e+00,  0.0000000e+00,  2.0000000e+00],\n",
       "       [-2.0000000e+00, -1.0000000e+00,  1.0000000e+00,  8.0000000e+00],\n",
       "       [-3.5059673e-17, -1.7529837e-17,  8.7649183e-18,  1.0000000e+00],\n",
       "       [ 6.0000000e+00,  2.0000000e+00, -1.0000000e+00, -1.9000000e+01]],\n",
       "      dtype=float32)"
      ]
     },
     "execution_count": 44,
     "metadata": {},
     "output_type": "execute_result"
    }
   ],
   "source": [
    "np.linalg.inv(A)"
   ]
  },
  {
   "cell_type": "markdown",
   "metadata": {},
   "source": [
    "2"
   ]
  },
  {
   "cell_type": "code",
   "execution_count": 47,
   "metadata": {},
   "outputs": [],
   "source": [
    "B = np.array([[5, 2, -2, 1], [-2, 5, 2, 0], [1, 2, 5, 0]],dtype='f')"
   ]
  },
  {
   "cell_type": "markdown",
   "metadata": {},
   "source": [
    "2.1"
   ]
  },
  {
   "cell_type": "code",
   "execution_count": 48,
   "metadata": {},
   "outputs": [
    {
     "name": "stdout",
     "output_type": "stream",
     "text": [
      "b[0] = 0.800000011920929\n",
      "b[1] = 0.7200000286102295\n",
      "b[2] = 0.4480000138282776\n",
      "0.8\n"
     ]
    }
   ],
   "source": [
    "print(crit_sassenfeld(B))"
   ]
  },
  {
   "cell_type": "code",
   "execution_count": 50,
   "metadata": {},
   "outputs": [
    {
     "name": "stdout",
     "output_type": "stream",
     "text": [
      "somatório 0: 4.0, diagonal: 5.0\n",
      "somatório 1: 4.0, diagonal: 5.0\n",
      "somatório 2: 3.0, diagonal: 5.0\n",
      "True\n"
     ]
    }
   ],
   "source": [
    "print(crit_linhas(B))"
   ]
  },
  {
   "cell_type": "markdown",
   "metadata": {},
   "source": [
    "Método de Gauss-Seidel converge"
   ]
  },
  {
   "cell_type": "code",
   "execution_count": 52,
   "metadata": {},
   "outputs": [],
   "source": [
    "B_2 = np.array([[5, 1, 2, 0], [-2, 5, 2, 1], [-1, 3, 3, 0]],dtype='f')"
   ]
  },
  {
   "cell_type": "code",
   "execution_count": 53,
   "metadata": {},
   "outputs": [
    {
     "name": "stdout",
     "output_type": "stream",
     "text": [
      "b[0] = 0.6000000238418579\n",
      "b[1] = 0.6399999856948853\n",
      "b[2] = 0.8399999737739563\n",
      "0.84\n",
      "somatório 0: 3.0, diagonal: 5.0\n",
      "somatório 1: 4.0, diagonal: 5.0\n",
      "somatório 2: 4.0, diagonal: 3.0\n",
      "False\n"
     ]
    }
   ],
   "source": [
    "print(crit_sassenfeld(B_2))\n",
    "\n",
    "print(crit_linhas(B_2))"
   ]
  },
  {
   "cell_type": "markdown",
   "metadata": {},
   "source": [
    "3"
   ]
  },
  {
   "cell_type": "code",
   "execution_count": 34,
   "metadata": {},
   "outputs": [],
   "source": [
    "C = np.array([[2, 1, 6, 3], [4, -2, 1, 2], [1, -5, -2, -4]],dtype='f')"
   ]
  },
  {
   "cell_type": "markdown",
   "metadata": {},
   "source": [
    "3.1"
   ]
  },
  {
   "cell_type": "code",
   "execution_count": 35,
   "metadata": {},
   "outputs": [
    {
     "name": "stdout",
     "output_type": "stream",
     "text": [
      "2: 0.0\n",
      "2: 0.0\n",
      "2: 0.0\n",
      "saída 3 antes do arredondamento: 0.0\n",
      "saída 3 depois do arredondamento: 0.0\n",
      "\n",
      "1: 0.0\n",
      "1: 0.0\n",
      "1: 0.0\n",
      "saída 2 antes do arredondamento: 1.0\n",
      "saída 2 depois do arredondamento: 1.0\n",
      "\n",
      "0: 0.0\n",
      "0: -2.0\n",
      "0: -2.0\n",
      "saída 1 antes do arredondamento: 1.0\n",
      "saída 1 depois do arredondamento: 1.0\n",
      "\n",
      "saída final:\n",
      "[1. 1. 0.]\n"
     ]
    }
   ],
   "source": [
    "subs_retroativa(C, 2)"
   ]
  },
  {
   "cell_type": "markdown",
   "metadata": {},
   "source": [
    "3.2"
   ]
  },
  {
   "cell_type": "code",
   "execution_count": 63,
   "metadata": {},
   "outputs": [
    {
     "name": "stdout",
     "output_type": "stream",
     "text": [
      "b[0] = 3.5\n",
      "b[1] = 7.5\n",
      "b[2] = 20.5\n",
      "20.5\n"
     ]
    }
   ],
   "source": [
    "print(crit_sassenfeld(C))"
   ]
  },
  {
   "cell_type": "markdown",
   "metadata": {},
   "source": [
    "Não satisfaz"
   ]
  },
  {
   "cell_type": "code",
   "execution_count": 64,
   "metadata": {},
   "outputs": [],
   "source": [
    "C[[0,1], :]  = C[[1, 0],:]\n",
    "C[[1,2],:] = C[[2,1],:]"
   ]
  },
  {
   "cell_type": "code",
   "execution_count": 65,
   "metadata": {},
   "outputs": [
    {
     "name": "stdout",
     "output_type": "stream",
     "text": [
      "somatório 0: 3.0, diagonal: 4.0\n",
      "somatório 1: 3.0, diagonal: 5.0\n",
      "somatório 2: 3.0, diagonal: 6.0\n",
      "True\n"
     ]
    }
   ],
   "source": [
    "print(crit_linhas(C))"
   ]
  },
  {
   "cell_type": "markdown",
   "metadata": {},
   "source": [
    "3.3"
   ]
  },
  {
   "cell_type": "code",
   "execution_count": 67,
   "metadata": {},
   "outputs": [
    {
     "name": "stdout",
     "output_type": "stream",
     "text": [
      "iteração 1\n",
      "X_0: [0, 0, 0]\n",
      "X_1: [0.5        0.9        0.18333334]\n",
      "Vi_1: [1. 1. 1.]\n",
      "Var_1: 1.0\n",
      "iteração 2\n",
      "X_1: [0.5        0.9        0.18333334]\n",
      "X_2: [0.90416664 0.90749997 0.04736112]\n",
      "Vi_2: [0.4470046  0.00826446 2.870967  ]\n",
      "Var_2: 2.870966911315918\n",
      "[0.90416664 0.90749997 0.04736112]\n"
     ]
    }
   ],
   "source": [
    "print(gauss_seidel(C,[0, 0, 0] ,2))"
   ]
  },
  {
   "cell_type": "markdown",
   "metadata": {},
   "source": [
    "7"
   ]
  },
  {
   "cell_type": "markdown",
   "metadata": {},
   "source": [
    "7.1"
   ]
  },
  {
   "cell_type": "code",
   "execution_count": 103,
   "metadata": {},
   "outputs": [
    {
     "name": "stdout",
     "output_type": "stream",
     "text": [
      "[[  2  -1   0   0   0]\n",
      " [ -1   2  -1   0   0]\n",
      " [  0  -1   2  -1   0]\n",
      " [  0   0  -1   2 128]]\n"
     ]
    }
   ],
   "source": [
    "G = np.array([[2,-1,0,0,0],[-1,2,-1,0,0],[0,-1,2,-1,0],[0,0,-1,2,128]])\n",
    "print(G)"
   ]
  },
  {
   "cell_type": "markdown",
   "metadata": {},
   "source": [
    "7.2"
   ]
  },
  {
   "cell_type": "code",
   "execution_count": 116,
   "metadata": {},
   "outputs": [
    {
     "name": "stdout",
     "output_type": "stream",
     "text": [
      "iteração 1\n",
      "X_0: [0. 0. 0. 0.]\n",
      "X_1: [ 0.  0.  0. 64.]\n",
      "Vi_1: [0. 0. 0. 1.]\n",
      "Var_1: 1.0\n",
      "iteração 2\n",
      "X_1: [ 0.  0.  0. 64.]\n",
      "X_2: [ 0.  0. 32. 80.]\n",
      "Vi_2: [0.  0.  1.  0.2]\n",
      "Var_2: 1.0\n",
      "iteração 3\n",
      "X_2: [ 0.  0. 32. 80.]\n",
      "X_3: [ 0. 16. 48. 88.]\n",
      "Vi_3: [0.         1.         0.33333334 0.09090909]\n",
      "Var_3: 1.0\n",
      "iteração 4\n",
      "X_3: [ 0. 16. 48. 88.]\n",
      "X_4: [ 8. 28. 58. 93.]\n",
      "Vi_4: [1.         0.42857143 0.1724138  0.05376344]\n",
      "Var_4: 1.0\n",
      "\n",
      "Resposta: [ 8. 28. 58. 93.]\n"
     ]
    }
   ],
   "source": [
    "resposta2 = gauss_seidel(G, np.array([0,0,0,0], dtype='f'), 4)\n",
    "print(f'\\nResposta: {resposta2}')"
   ]
  },
  {
   "cell_type": "markdown",
   "metadata": {},
   "source": [
    "7.3"
   ]
  },
  {
   "cell_type": "code",
   "execution_count": 118,
   "metadata": {},
   "outputs": [
    {
     "name": "stdout",
     "output_type": "stream",
     "text": [
      "b[0] = 0.5\n",
      "b[1] = 0.75\n",
      "b[2] = 0.875\n",
      "b[3] = 0.4375\n"
     ]
    },
    {
     "data": {
      "text/plain": [
       "0.875"
      ]
     },
     "execution_count": 118,
     "metadata": {},
     "output_type": "execute_result"
    }
   ],
   "source": [
    "crit_sassenfeld(G)"
   ]
  },
  {
   "cell_type": "markdown",
   "metadata": {},
   "source": [
    "8"
   ]
  },
  {
   "cell_type": "markdown",
   "metadata": {},
   "source": [
    "8.1"
   ]
  },
  {
   "cell_type": "code",
   "execution_count": 95,
   "metadata": {},
   "outputs": [
    {
     "name": "stdout",
     "output_type": "stream",
     "text": [
      "[[ 0.   2.   3.   1.5]\n",
      " [ 4.   2.   0.  -2. ]\n",
      " [ 2.   2.   0.   0. ]]\n"
     ]
    }
   ],
   "source": [
    "H = np.array([[0, 2, 3, 1.5], [4, 2, 0, -2], [2, 2, 0, 0]], dtype='f')\n",
    "print(H)"
   ]
  },
  {
   "cell_type": "code",
   "execution_count": null,
   "metadata": {},
   "outputs": [],
   "source": [
    "gauss_com_pivot(H, 2)"
   ]
  },
  {
   "cell_type": "code",
   "execution_count": 70,
   "metadata": {},
   "outputs": [
    {
     "name": "stdout",
     "output_type": "stream",
     "text": [
      "iteração 0:\n",
      " Matrix antes do passo:\n",
      "[[ 0.   2.   3.   1.5]\n",
      " [ 4.   2.   0.  -2. ]\n",
      " [ 2.   2.   0.   0. ]]\n",
      "Matrix apos arredondamento:\n",
      "[[ 4.   2.   0.  -2. ]\n",
      " [ 0.   2.   3.   1.5]\n",
      " [ 0.   1.   0.   1. ]]\n",
      "iteração 1:\n",
      " Matrix antes do passo:\n",
      "[[ 4.   2.   0.  -2. ]\n",
      " [ 0.   2.   3.   1.5]\n",
      " [ 0.   1.   0.   1. ]]\n",
      "Matrix apos arredondamento:\n",
      "[[ 4.    2.    0.   -2.  ]\n",
      " [ 0.    2.    3.    1.5 ]\n",
      " [ 0.    0.   -1.5   0.25]]\n",
      "iteração 2:\n",
      " Matrix antes do passo:\n",
      "[[ 4.    2.    0.   -2.  ]\n",
      " [ 0.    2.    3.    1.5 ]\n",
      " [ 0.    0.   -1.5   0.25]]\n",
      "Matrix apos arredondamento:\n",
      "[[ 4.    2.    0.   -2.  ]\n",
      " [ 0.    2.    3.    1.5 ]\n",
      " [ 0.    0.   -1.5   0.25]]\n",
      "saída 3 antes do arredondamento: -0.17000000178813934\n",
      "saída 3 depois do arredondamento: -0.17000000178813934\n",
      "\n",
      "saída 2 antes do arredondamento: 1.0049999952316284\n",
      "saída 2 depois do arredondamento: 1.0\n",
      "\n",
      "saída 1 antes do arredondamento: -1.0\n",
      "saída 1 depois do arredondamento: -1.0\n",
      "\n",
      "saída final:\n",
      "[-1.    1.   -0.17]\n"
     ]
    }
   ],
   "source": [
    "subs_retroativa(H, 2)"
   ]
  },
  {
   "cell_type": "markdown",
   "metadata": {},
   "source": [
    "8.2"
   ]
  },
  {
   "cell_type": "code",
   "execution_count": 96,
   "metadata": {},
   "outputs": [
    {
     "name": "stdout",
     "output_type": "stream",
     "text": [
      "[[ 4.   2.   0.  -2. ]\n",
      " [ 2.   2.   0.   0. ]\n",
      " [ 0.   2.   3.   1.5]]\n"
     ]
    }
   ],
   "source": [
    "H[[0,1], :] = H[[1,0],:]\n",
    "H[[1,2],:] = H[[2,1],:]\n",
    "print(H)"
   ]
  },
  {
   "cell_type": "code",
   "execution_count": 97,
   "metadata": {},
   "outputs": [
    {
     "name": "stdout",
     "output_type": "stream",
     "text": [
      "b[0] = 0.5\n",
      "b[1] = 0.5\n",
      "b[2] = 0.3333333432674408\n"
     ]
    },
    {
     "data": {
      "text/plain": [
       "0.5"
      ]
     },
     "execution_count": 97,
     "metadata": {},
     "output_type": "execute_result"
    }
   ],
   "source": [
    "crit_sassenfeld(H)"
   ]
  },
  {
   "cell_type": "markdown",
   "metadata": {},
   "source": [
    "8.4"
   ]
  },
  {
   "cell_type": "code",
   "execution_count": 98,
   "metadata": {},
   "outputs": [
    {
     "name": "stdout",
     "output_type": "stream",
     "text": [
      "iteração 1\n",
      "X_0: [-1.    1.   -0.17]\n",
      "X_1: [-1.          1.         -0.16666667]\n",
      "Vi_1: [0.         0.         0.01999998]\n",
      "Var_1: 0.019999980926513672\n"
     ]
    }
   ],
   "source": [
    "resp = gauss_seidel(H, np.array([-1, 1, -.17], dtype='f'), 1)"
   ]
  },
  {
   "cell_type": "code",
   "execution_count": 99,
   "metadata": {},
   "outputs": [
    {
     "name": "stdout",
     "output_type": "stream",
     "text": [
      "0.33666667163372044\n"
     ]
    }
   ],
   "source": [
    "erro = (0.5**1/(1-0.5))*(abs(resp[2] - 0.17))\n",
    "print(erro)"
   ]
  }
 ],
 "metadata": {
  "kernelspec": {
   "display_name": "Python 3",
   "language": "python",
   "name": "python3"
  },
  "language_info": {
   "codemirror_mode": {
    "name": "ipython",
    "version": 3
   },
   "file_extension": ".py",
   "mimetype": "text/x-python",
   "name": "python",
   "nbconvert_exporter": "python",
   "pygments_lexer": "ipython3",
   "version": "3.8.5"
  }
 },
 "nbformat": 4,
 "nbformat_minor": 5
}
